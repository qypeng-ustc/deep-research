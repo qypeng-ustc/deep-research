{
 "cells": [
  {
   "cell_type": "code",
   "execution_count": 1,
   "id": "4bb60ba0",
   "metadata": {},
   "outputs": [],
   "source": [
    "from dotenv import load_dotenv\n",
    "import os\n",
    "from langchain_openai import ChatOpenAI"
   ]
  },
  {
   "cell_type": "code",
   "execution_count": 4,
   "id": "7924504e",
   "metadata": {},
   "outputs": [
    {
     "name": "stdout",
     "output_type": "stream",
     "text": [
      "f6bcdbf9-b90a-4d83-b25c-76951d3bed7f https://ark.cn-beijing.volces.com/api/v3\n"
     ]
    }
   ],
   "source": [
    "load_dotenv()\n",
    "\n",
    "\n",
    "def init_model(name, provider, **kwargs):\n",
    "    provider = provider.upper()\n",
    "\n",
    "    api_key = os.getenv(f'{provider}_API_KEY')\n",
    "    base_url = os.getenv(f'{provider}_BASE_URL')\n",
    "    print(api_key, base_url)\n",
    "    model = ChatOpenAI(\n",
    "        model=name, api_key=api_key, base_url=base_url, **kwargs\n",
    "    )\n",
    "    return model\n",
    "\n",
    "\n",
    "llm = init_model(\n",
    "    os.getenv(\"CHAT_MODEL_NAME\"), \n",
    "    os.getenv(\"CHAT_MODEL_PROVIDER\"), \n",
    "    extra_body={\"thinking\": {\"type\": \"disabled\"}}\n",
    ")"
   ]
  },
  {
   "cell_type": "code",
   "execution_count": 5,
   "id": "c10b0b5a",
   "metadata": {},
   "outputs": [
    {
     "data": {
      "text/plain": [
       "AIMessage(content='你好呀！有什么想和我交流的吗，比如想聊些什么话题呢，是关于学习、生活还是其他方面呢？', additional_kwargs={'refusal': None}, response_metadata={'token_usage': {'completion_tokens': 31, 'prompt_tokens': 11, 'total_tokens': 42, 'completion_tokens_details': {'accepted_prediction_tokens': None, 'audio_tokens': None, 'reasoning_tokens': 0, 'rejected_prediction_tokens': None}, 'prompt_tokens_details': {'audio_tokens': None, 'cached_tokens': 0}}, 'model_name': 'doubao-seed-1-6-flash-250615', 'system_fingerprint': None, 'id': '021750950204190306b33caa68e77690337aa08b55c7daec508b7', 'service_tier': 'default', 'finish_reason': 'stop', 'logprobs': None}, id='run--7492b80b-c35e-4354-97f9-4bb98b0f4d52-0', usage_metadata={'input_tokens': 11, 'output_tokens': 31, 'total_tokens': 42, 'input_token_details': {'cache_read': 0}, 'output_token_details': {'reasoning': 0}})"
      ]
     },
     "execution_count": 5,
     "metadata": {},
     "output_type": "execute_result"
    }
   ],
   "source": [
    "llm.invoke(\"你好\")"
   ]
  },
  {
   "cell_type": "code",
   "execution_count": 9,
   "id": "32f85807",
   "metadata": {},
   "outputs": [],
   "source": [
    "from src.graph import build_graph\n",
    "from src.configuration import Configuration"
   ]
  },
  {
   "cell_type": "code",
   "execution_count": 11,
   "id": "82db36ab",
   "metadata": {},
   "outputs": [],
   "source": [
    "config = Configuration.from_runnable_config()\n",
    "graph = build_graph().with_config(config.model_dump())"
   ]
  },
  {
   "cell_type": "code",
   "execution_count": null,
   "id": "1ee72d8b",
   "metadata": {},
   "outputs": [],
   "source": []
  }
 ],
 "metadata": {
  "kernelspec": {
   "display_name": "llm",
   "language": "python",
   "name": "python3"
  },
  "language_info": {
   "codemirror_mode": {
    "name": "ipython",
    "version": 3
   },
   "file_extension": ".py",
   "mimetype": "text/x-python",
   "name": "python",
   "nbconvert_exporter": "python",
   "pygments_lexer": "ipython3",
   "version": "3.12.0"
  }
 },
 "nbformat": 4,
 "nbformat_minor": 5
}
